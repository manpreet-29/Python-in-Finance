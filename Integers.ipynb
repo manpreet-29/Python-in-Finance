{
 "cells": [
  {
   "cell_type": "markdown",
   "metadata": {},
   "source": [
    "## Integers\n",
    "\n",
    "Example - \n",
    "\n",
    "    a = 23\n",
    "    b = -23 -> Negative Integer\n",
    "    c = 0X7fa8 -> Hexadecimal \n",
    "    d = 0o253 -> Octal\n",
    "    e = 0b10001111 -> Binary"
   ]
  },
  {
   "cell_type": "markdown",
   "metadata": {},
   "source": [
    "### Comman Operations -\n",
    "\n",
    "    x + y      Add\n",
    "    x - y      Subtract\n",
    "    x * y      Multiply\n",
    "    x / y      Divide (produces a float)\n",
    "    round(x/y) Gives int value rounded off to nearest\n",
    "    x // y     Floor Divide (produces an integer)\n",
    "    x % y      Modulo (remainder)\n",
    "    x ** y     Power\n",
    "    x << n     Bit shift left\n",
    "    x >> n     Bit shift right\n",
    "    x & y      Bit-wise AND\n",
    "    x | y      Bit-wise OR\n",
    "    x ^ y      Bit-wise XOR\n",
    "    ~x         Bit-wise NOT\n",
    "    abs(x)     Absolute value"
   ]
  },
  {
   "cell_type": "code",
   "execution_count": 7,
   "metadata": {},
   "outputs": [],
   "source": [
    "x = -233\n",
    "y = 2\n",
    "n1 = 5\n",
    "n2 = 1"
   ]
  },
  {
   "cell_type": "code",
   "execution_count": 10,
   "metadata": {},
   "outputs": [
    {
     "name": "stdout",
     "output_type": "stream",
     "text": [
      "Addition result is : -231\n",
      "Subtractiion result is : -235\n",
      "Multiplication result is : -466\n",
      "Division (produces a float)  result is : -116.5\n",
      "Division (produces a int using round)  result is : -116\n",
      "Floor Divide (produces an integer) result is : -117\n",
      "Modulo (remainder) result is : 1\n",
      "Power or Exponential result is : 54289\n",
      "Bit shift left is : -7456\n",
      "Bit shift right is : -117\n",
      "Bit-wise AND is : 2\n",
      "Bit-wise OR is : -233\n",
      "Bit-wise XOR : -235\n",
      "Bit-wise NOT is : 232\n",
      "Absolute value is : 233\n"
     ]
    }
   ],
   "source": [
    "print(f'Addition result is : {x + y}')      \n",
    "print(f'Subtractiion result is : {x - y }')     \n",
    "print(f'Multiplication result is : {x * y}')\n",
    "print(f'Division (produces a float)  result is : {x / y}') \n",
    "print(f'Division (produces a int using round)  result is : {round(x / y)}')  \n",
    "print(f'Floor Divide (produces an integer) result is : {x // y}')     \n",
    "print(f'Modulo (remainder) result is : {x % y}')  \n",
    "print(f'Power or Exponential result is : {x ** y}')     \n",
    "print(f'Bit shift left is : {x << n1}')    \n",
    "print(f'Bit shift right is : {x >> n2}')     \n",
    "print(f'Bit-wise AND is : {x & y}')      \n",
    "print(f'Bit-wise OR is : {x | y}')      \n",
    "print(f'Bit-wise XOR : {x ^ y }')     \n",
    "print(f'Bit-wise NOT is : {~x}')         \n",
    "print(f'Absolute value is : {abs(x)}')     "
   ]
  },
  {
   "cell_type": "code",
   "execution_count": null,
   "metadata": {},
   "outputs": [],
   "source": []
  }
 ],
 "metadata": {
  "kernelspec": {
   "display_name": "Python 3",
   "language": "python",
   "name": "python3"
  },
  "language_info": {
   "codemirror_mode": {
    "name": "ipython",
    "version": 3
   },
   "file_extension": ".py",
   "mimetype": "text/x-python",
   "name": "python",
   "nbconvert_exporter": "python",
   "pygments_lexer": "ipython3",
   "version": "3.8.3"
  }
 },
 "nbformat": 4,
 "nbformat_minor": 4
}

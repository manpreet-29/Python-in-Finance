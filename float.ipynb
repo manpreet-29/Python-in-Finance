{
 "cells": [
  {
   "cell_type": "markdown",
   "metadata": {},
   "source": [
    "## Float\n",
    "\n",
    "Use a decimal or expotential notation to specify a floating point"
   ]
  },
  {
   "cell_type": "code",
   "execution_count": 1,
   "metadata": {},
   "outputs": [],
   "source": [
    "a = 3.9 + 2.8"
   ]
  },
  {
   "cell_type": "code",
   "execution_count": 4,
   "metadata": {},
   "outputs": [
    {
     "data": {
      "text/plain": [
       "False"
      ]
     },
     "execution_count": 4,
     "metadata": {},
     "output_type": "execute_result"
    }
   ],
   "source": [
    "a == 6.7\n"
   ]
  },
  {
   "cell_type": "code",
   "execution_count": 7,
   "metadata": {},
   "outputs": [
    {
     "data": {
      "text/plain": [
       "6.699999999999999"
      ]
     },
     "execution_count": 7,
     "metadata": {},
     "output_type": "execute_result"
    }
   ],
   "source": [
    "a"
   ]
  },
  {
   "cell_type": "code",
   "execution_count": 9,
   "metadata": {},
   "outputs": [],
   "source": [
    "x = 5.5 \n",
    "y = -2.3"
   ]
  },
  {
   "cell_type": "code",
   "execution_count": 12,
   "metadata": {},
   "outputs": [
    {
     "name": "stdout",
     "output_type": "stream",
     "text": [
      "Addition result is : 3.2\n",
      "Subtractiion result is : 7.8\n",
      "Multiplication result is : -12.649999999999999\n",
      "Division result is : -2.3913043478260874\n",
      "Division (produces a int using round)  result is : -2\n",
      "Floor Divide result is : -3.0\n",
      "Modulo (remainder) result is : -1.3999999999999995\n",
      "Power or Exponential result is : 0.019822837196861003\n",
      "Absolute value is : 2.3\n"
     ]
    }
   ],
   "source": [
    "print(f'Addition result is : {x + y}')      \n",
    "print(f'Subtractiion result is : {x - y }')     \n",
    "print(f'Multiplication result is : {x * y}')\n",
    "print(f'Division result is : {x / y}') \n",
    "print(f'Division (produces a int using round)  result is : {round(x / y)}')  \n",
    "print(f'Floor Divide result is : {x // y}')     \n",
    "print(f'Modulo (remainder) result is : {x % y}')  \n",
    "print(f'Power or Exponential result is : {x ** y}')           \n",
    "print(f'Absolute value is : {abs(y)}')"
   ]
  },
  {
   "cell_type": "markdown",
   "metadata": {},
   "source": [
    "## Comparisons\n",
    "    x < y      Less than\n",
    "    x <= y     Less than or equal\n",
    "    x > y      Greater than\n",
    "    x >= y     Greater than or equal\n",
    "    x == y     Equal to\n",
    "    x != y     Not equal to"
   ]
  },
  {
   "cell_type": "code",
   "execution_count": 15,
   "metadata": {},
   "outputs": [
    {
     "data": {
      "text/plain": [
       "True"
      ]
     },
     "execution_count": 15,
     "metadata": {},
     "output_type": "execute_result"
    }
   ],
   "source": [
    "x < y      \n",
    "x <= y    \n",
    "x > y      \n",
    "x >= y     \n",
    "x == y     \n",
    "x != y     "
   ]
  },
  {
   "cell_type": "markdown",
   "metadata": {},
   "source": [
    "## Additional Maths functions can be used using the math module in python."
   ]
  },
  {
   "cell_type": "code",
   "execution_count": 14,
   "metadata": {},
   "outputs": [
    {
     "name": "stdout",
     "output_type": "stream",
     "text": [
      "The Squareroot is : 4.0\n",
      "The sine is : -0.2879033166650653\n",
      "The cosine is : -0.9576594803233847\n",
      "The log is : 2.772588722239781\n"
     ]
    }
   ],
   "source": [
    "z=16\n",
    "import math\n",
    "print(f'The Squareroot is : {math.sqrt(z)}') \n",
    "print(f'The sine is : {math.sin(z)}')\n",
    "print(f'The cosine is : {math.cos(z)}') \n",
    "print(f'The log is : {math.log(z)}')"
   ]
  },
  {
   "cell_type": "code",
   "execution_count": 18,
   "metadata": {},
   "outputs": [],
   "source": [
    "#Defining the data Type \n",
    "b = 2.7\n",
    "a = int(b)"
   ]
  },
  {
   "cell_type": "code",
   "execution_count": 19,
   "metadata": {},
   "outputs": [
    {
     "data": {
      "text/plain": [
       "2"
      ]
     },
     "execution_count": 19,
     "metadata": {},
     "output_type": "execute_result"
    }
   ],
   "source": [
    "a"
   ]
  },
  {
   "cell_type": "code",
   "execution_count": 20,
   "metadata": {},
   "outputs": [],
   "source": [
    "p = 2.2\n",
    "q = float(p)"
   ]
  },
  {
   "cell_type": "code",
   "execution_count": 21,
   "metadata": {},
   "outputs": [
    {
     "data": {
      "text/plain": [
       "2.2"
      ]
     },
     "execution_count": 21,
     "metadata": {},
     "output_type": "execute_result"
    }
   ],
   "source": [
    "q"
   ]
  },
  {
   "cell_type": "code",
   "execution_count": 22,
   "metadata": {},
   "outputs": [
    {
     "name": "stdout",
     "output_type": "stream",
     "text": [
      "<class 'float'>\n"
     ]
    }
   ],
   "source": [
    "r = 4.2\n",
    "print(type(r))"
   ]
  },
  {
   "cell_type": "markdown",
   "metadata": {},
   "source": [
    "## Problem - \n",
    "\n",
    "Ram has decided to encash his total amount. The time he kept the amount was for 20 years with rate of interest as 10% and principal amount as 2684.55. Calculate his simple interest and total amount"
   ]
  },
  {
   "cell_type": "code",
   "execution_count": 25,
   "metadata": {},
   "outputs": [
    {
     "name": "stdout",
     "output_type": "stream",
     "text": [
      "the simple interest is : 5369.1\n",
      "the total amount is : 8053.650000000001\n"
     ]
    }
   ],
   "source": [
    "p = 2684.55\n",
    "r = 10 \n",
    "t = 20 \n",
    "\n",
    "si = (p*r*t)/100\n",
    "ta = si +p\n",
    "\n",
    "print(f'the simple interest is : {si}')\n",
    "print(f'the total amount is : {ta}')"
   ]
  }
 ],
 "metadata": {
  "kernelspec": {
   "display_name": "Python 3",
   "language": "python",
   "name": "python3"
  },
  "language_info": {
   "codemirror_mode": {
    "name": "ipython",
    "version": 3
   },
   "file_extension": ".py",
   "mimetype": "text/x-python",
   "name": "python",
   "nbconvert_exporter": "python",
   "pygments_lexer": "ipython3",
   "version": "3.8.3"
  }
 },
 "nbformat": 4,
 "nbformat_minor": 4
}

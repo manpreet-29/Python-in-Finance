{
 "cells": [
  {
   "cell_type": "markdown",
   "metadata": {},
   "source": [
    "## Data Types \n",
    "### I. Numbers \n",
    "#### Python has four types of numbers \n",
    "        a. Boolean\n",
    "        b. Integers\n",
    "        c. Floating Point \n",
    "        d. Complex"
   ]
  },
  {
   "cell_type": "markdown",
   "metadata": {},
   "source": [
    "## a. Booleans \n",
    "Booleans have true and false value. Numerically they are evealuated with integer value as 1 and 0.\n",
    " "
   ]
  },
  {
   "cell_type": "code",
   "execution_count": 14,
   "metadata": {},
   "outputs": [
    {
     "data": {
      "text/plain": [
       "False"
      ]
     },
     "execution_count": 14,
     "metadata": {},
     "output_type": "execute_result"
    }
   ],
   "source": [
    "not True"
   ]
  },
  {
   "cell_type": "code",
   "execution_count": 15,
   "metadata": {},
   "outputs": [
    {
     "data": {
      "text/plain": [
       "True"
      ]
     },
     "execution_count": 15,
     "metadata": {},
     "output_type": "execute_result"
    }
   ],
   "source": [
    "not False"
   ]
  },
  {
   "cell_type": "code",
   "execution_count": 18,
   "metadata": {},
   "outputs": [],
   "source": [
    "def print_and_true():\n",
    "    print(\"I got called\")\n",
    "    return True"
   ]
  },
  {
   "cell_type": "code",
   "execution_count": 19,
   "metadata": {},
   "outputs": [
    {
     "name": "stdout",
     "output_type": "stream",
     "text": [
      "I got called\n"
     ]
    },
    {
     "data": {
      "text/plain": [
       "False"
      ]
     },
     "execution_count": 19,
     "metadata": {},
     "output_type": "execute_result"
    }
   ],
   "source": [
    "not print_and_true()"
   ]
  },
  {
   "cell_type": "code",
   "execution_count": 20,
   "metadata": {},
   "outputs": [
    {
     "name": "stdout",
     "output_type": "stream",
     "text": [
      "I got called\n"
     ]
    },
    {
     "data": {
      "text/plain": [
       "True"
      ]
     },
     "execution_count": 20,
     "metadata": {},
     "output_type": "execute_result"
    }
   ],
   "source": [
    "print_and_true()"
   ]
  },
  {
   "cell_type": "markdown",
   "metadata": {},
   "source": [
    "## True False Table \n",
    "1. AND operator \n",
    "\n",
    "| A | B | A and B |\n",
    "| --- | --- | --- |\n",
    "| True| True | True\n",
    "| True| False | False\n",
    "| False | True | False\n",
    "| False| False | False\n",
    "\n",
    "2. OR operator\n",
    "| A | B | A or B |\n",
    "| --- | --- | --- |\n",
    "| True| True | True\n",
    "| True| False | True\n",
    "| False | True | True\n",
    "| False| False | False"
   ]
  },
  {
   "cell_type": "code",
   "execution_count": 23,
   "metadata": {},
   "outputs": [
    {
     "name": "stdout",
     "output_type": "stream",
     "text": [
      "AND OPERATOR\n",
      "I am returning True\n",
      "True\n",
      "I am returning False\n",
      "False\n",
      "False\n",
      "False\n",
      "--------------------------\n",
      "OR OPERATOR\n",
      "True\n",
      "print_or_true called\n",
      "True\n"
     ]
    }
   ],
   "source": [
    "#AND\n",
    "print('AND OPERATOR')\n",
    "def print_and_return(x):\n",
    "        print(f\"I am returning {x}\")\n",
    "        return x\n",
    "\n",
    "print(True and print_and_return(True))\n",
    "\n",
    "print(True and print_and_return(False))\n",
    "\n",
    "print(False and print_and_return(True))\n",
    "\n",
    "print(False and print_and_return(False))\n",
    "\n",
    "#OR\n",
    "print('--------------------------')\n",
    "print('OR OPERATOR')\n",
    "\n",
    "def print_or_true():\n",
    "         print(\"print_or_true called\")\n",
    "         return True\n",
    "\n",
    "print(True or print_or_true())\n",
    "\n",
    "print(False or print_or_true())\n",
    "\n",
    "\n"
   ]
  }
 ],
 "metadata": {
  "kernelspec": {
   "display_name": "Python 3",
   "language": "python",
   "name": "python3"
  },
  "language_info": {
   "codemirror_mode": {
    "name": "ipython",
    "version": 3
   },
   "file_extension": ".py",
   "mimetype": "text/x-python",
   "name": "python",
   "nbconvert_exporter": "python",
   "pygments_lexer": "ipython3",
   "version": "3.8.3"
  }
 },
 "nbformat": 4,
 "nbformat_minor": 4
}
